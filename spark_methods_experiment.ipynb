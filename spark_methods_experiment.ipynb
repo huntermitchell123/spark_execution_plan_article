{
 "cells": [
  {
   "cell_type": "code",
   "execution_count": 1,
   "metadata": {},
   "outputs": [],
   "source": [
    "from pyspark.sql import SparkSession\n",
    "import pyspark.sql.functions as f\n",
    "import random\n",
    "import timeit\n",
    "random.seed(42)"
   ]
  },
  {
   "cell_type": "code",
   "execution_count": 2,
   "metadata": {},
   "outputs": [
    {
     "name": "stderr",
     "output_type": "stream",
     "text": [
      "Setting default log level to \"WARN\".\n",
      "To adjust logging level use sc.setLogLevel(newLevel). For SparkR, use setLogLevel(newLevel).\n",
      "24/10/31 11:27:34 WARN NativeCodeLoader: Unable to load native-hadoop library for your platform... using builtin-java classes where applicable\n",
      "24/10/31 11:27:35 WARN Utils: Service 'SparkUI' could not bind on port 4050. Attempting port 4051.\n",
      "24/10/31 11:27:35 WARN Utils: Service 'SparkUI' could not bind on port 4051. Attempting port 4052.\n"
     ]
    }
   ],
   "source": [
    "spark = SparkSession.builder.\\\n",
    "    appName(\"SparkExecutionPlanTests\").\\\n",
    "    master(\"local[*]\").\\\n",
    "    config(\"spark.driver.memory\", \"4g\").\\\n",
    "    config(\"spark.executor.memory\", \"4g\").\\\n",
    "    config(\"spark.driver.bindAddress\",\"localhost\").\\\n",
    "    config(\"spark.ui.port\",\"4050\").\\\n",
    "    getOrCreate()\n",
    "\n",
    "# Spark UI: http://localhost:4050/jobs/"
   ]
  },
  {
   "cell_type": "code",
   "execution_count": 3,
   "metadata": {},
   "outputs": [],
   "source": [
    "df_size = 1000000 # how many rows in the dataframe\n",
    "num_join_cols = 100 # how many columns get joined with the dataframe to build up the execution plan\n",
    "num_df_actions = 30 # how many iterations of actions to perform on the dataframe to test performance of each execution plan splitting strategy"
   ]
  },
  {
   "cell_type": "code",
   "execution_count": 4,
   "metadata": {},
   "outputs": [],
   "source": [
    "df = spark.range(df_size)"
   ]
  },
  {
   "cell_type": "code",
   "execution_count": 5,
   "metadata": {},
   "outputs": [],
   "source": [
    "for i in range(num_join_cols):\n",
    "    temp_df = spark.range(df_size).withColumnRenamed(\"id\", f\"id_{i}\")\n",
    "    df = df.join(temp_df, df[\"id\"] == temp_df[f\"id_{i}\"])\n",
    "    df = df.withColumn(f\"id_{i}\", (f.rand() * 100).cast(\"int\"))\n",
    "df = df.drop(\"id\")\n"
   ]
  },
  {
   "cell_type": "code",
   "execution_count": 6,
   "metadata": {},
   "outputs": [
    {
     "name": "stderr",
     "output_type": "stream",
     "text": [
      "24/10/31 11:27:52 WARN SparkStringUtils: Truncated the string representation of a plan since it was too large. This behavior can be adjusted by setting 'spark.sql.debug.maxToStringFields'.\n",
      "[Stage 1:>                                                          (0 + 1) / 1]\r"
     ]
    },
    {
     "name": "stdout",
     "output_type": "stream",
     "text": [
      "+----+----+----+----+----+----+----+----+----+----+-----+-----+-----+-----+-----+-----+-----+-----+-----+-----+-----+-----+-----+-----+-----+-----+-----+-----+-----+-----+-----+-----+-----+-----+-----+-----+-----+-----+-----+-----+-----+-----+-----+-----+-----+-----+-----+-----+-----+-----+-----+-----+-----+-----+-----+-----+-----+-----+-----+-----+-----+-----+-----+-----+-----+-----+-----+-----+-----+-----+-----+-----+-----+-----+-----+-----+-----+-----+-----+-----+-----+-----+-----+-----+-----+-----+-----+-----+-----+-----+-----+-----+-----+-----+-----+-----+-----+-----+-----+-----+\n",
      "|id_0|id_1|id_2|id_3|id_4|id_5|id_6|id_7|id_8|id_9|id_10|id_11|id_12|id_13|id_14|id_15|id_16|id_17|id_18|id_19|id_20|id_21|id_22|id_23|id_24|id_25|id_26|id_27|id_28|id_29|id_30|id_31|id_32|id_33|id_34|id_35|id_36|id_37|id_38|id_39|id_40|id_41|id_42|id_43|id_44|id_45|id_46|id_47|id_48|id_49|id_50|id_51|id_52|id_53|id_54|id_55|id_56|id_57|id_58|id_59|id_60|id_61|id_62|id_63|id_64|id_65|id_66|id_67|id_68|id_69|id_70|id_71|id_72|id_73|id_74|id_75|id_76|id_77|id_78|id_79|id_80|id_81|id_82|id_83|id_84|id_85|id_86|id_87|id_88|id_89|id_90|id_91|id_92|id_93|id_94|id_95|id_96|id_97|id_98|id_99|\n",
      "+----+----+----+----+----+----+----+----+----+----+-----+-----+-----+-----+-----+-----+-----+-----+-----+-----+-----+-----+-----+-----+-----+-----+-----+-----+-----+-----+-----+-----+-----+-----+-----+-----+-----+-----+-----+-----+-----+-----+-----+-----+-----+-----+-----+-----+-----+-----+-----+-----+-----+-----+-----+-----+-----+-----+-----+-----+-----+-----+-----+-----+-----+-----+-----+-----+-----+-----+-----+-----+-----+-----+-----+-----+-----+-----+-----+-----+-----+-----+-----+-----+-----+-----+-----+-----+-----+-----+-----+-----+-----+-----+-----+-----+-----+-----+-----+-----+\n",
      "|  64|  17|  18|  58|  11|  80|  68|  36|  27|  74|   81|   66|    6|   29|    3|   44|   86|   47|    6|   65|    8|   99|   68|   36|   72|   35|    1|   36|   99|   58|   84|    3|   25|   69|   61|   85|   92|    7|   19|   51|   27|   61|   67|    9|   83|   77|   34|   41|   46|   24|    1|   73|   99|   53|   66|   54|   78|   28|   74|   10|   54|    2|   35|   30|   93|   62|   99|   95|   16|   10|   78|   15|   38|   89|   76|   71|   22|   37|   91|   12|   10|   54|   42|   88|    3|   70|   40|   56|   45|   65|   12|   93|   18|   87|   18|   27|   82|   87|   64|   65|\n",
      "|  31|  61|  76|  15|  48|  79|  48|  86|  81|  74|    3|   35|    2|   99|   93|   60|   24|   38|   58|   79|   98|   14|   64|   12|   46|   35|   66|   89|   59|   57|   31|   69|    9|    8|    8|   83|    5|   47|   87|   34|   71|   82|   39|    4|   68|   17|   42|    3|   74|   80|    7|   42|   41|   61|   88|   15|   85|   27|    4|    8|    8|   58|   31|   16|   87|    7|   45|   30|   98|   94|   52|   61|   59|   78|   36|   69|   26|   97|   17|   88|    4|   22|   66|   99|   26|   63|   63|   85|   62|   80|   39|   64|   46|   36|   10|   60|   77|   87|   16|   57|\n",
      "|  16|  38|  60|   1|  43|  29|  20|  56|  91|   9|   15|   20|   13|   66|   60|   90|   90|   22|   61|   20|   19|   53|   95|    6|   20|   22|   97|   26|   21|   51|   77|   26|   76|    1|    0|   67|   57|   44|   13|    5|   73|   58|   16|   73|   15|   45|   73|   34|   63|   33|   22|   48|   76|   48|   98|   66|   24|   92|   86|   99|    4|   72|    5|   72|   31|    5|   85|   31|   83|   12|   47|   84|   51|   75|   25|   95|   22|   17|   10|   63|    9|   29|   79|   50|   75|   98|   63|   59|   90|   61|   70|   14|   64|   43|   76|   94|   56|   29|   13|   29|\n",
      "|  44|   9|  45|  15|  37|  16|  84|  90|  85|  57|   63|    9|   76|   80|   65|   42|   76|   42|   41|   81|   52|   59|   43|   73|   95|   73|   37|   63|   32|   80|   88|   47|   81|   16|   34|   83|   29|   15|   70|    1|   70|   21|   16|   50|   85|   36|   75|   57|   97|   63|   86|   47|   69|   96|   38|   70|   60|   92|   91|   75|    9|   44|   91|   34|   59|   93|   27|   10|   45|   20|   89|   34|   49|   53|   12|   29|   21|   41|   34|   47|   62|   80|   25|   23|   88|   62|    4|    0|   94|   63|   17|   32|   53|   84|   63|   65|   43|   92|    8|    4|\n",
      "|   6|  41|  46|  57|  68|  79|  38|  59|  69|  94|   45|   35|   41|   12|   54|   35|   90|   63|   51|   50|   58|   89|   32|   76|   40|   64|   49|   13|   16|   53|   65|   63|   52|   79|    5|   22|   18|   94|   87|   20|   99|   12|   23|   11|   11|   74|   19|   21|   74|   75|   85|   21|   41|   69|   43|   18|   42|   26|   83|   24|   56|   37|   63|   75|   26|   12|   80|   12|   34|   55|   25|   60|   33|   65|   71|   53|   87|   47|   31|   92|   49|   69|   30|   56|   21|   65|   30|    4|    5|   15|   32|   61|   66|    1|   92|   71|   12|   83|   87|   72|\n",
      "|  32|  30|  36|  25|  27|   8|   7|  88|   7|  20|   99|    8|    1|   92|   88|   16|    4|   33|   86|   10|   10|   70|   82|   98|   79|   52|    9|   60|   15|   58|   30|   82|   52|   71|   26|   68|   64|   24|   99|   17|   52|   43|   86|   26|   10|   62|   21|   54|   13|    0|   81|   79|    9|   47|   44|    3|   59|   67|   38|   93|   65|   98|   83|   79|   13|   20|   33|   24|    7|   41|   63|   50|   32|   27|   51|   36|   35|   95|   44|   20|   41|   87|   30|   19|   18|   14|   75|   46|   56|   11|   79|   93|   50|   71|   20|   88|   71|   61|   91|   57|\n",
      "|  23|  28|  45|  71|  57|  92|   9|  65|  75|  18|   48|   51|   63|   45|   16|   10|   58|    8|   67|   69|   49|   72|   90|    0|   43|   26|   32|   27|   19|   95|   30|   52|   47|   57|   46|   46|   21|   69|   89|   22|   75|   79|   64|   96|   67|   88|   93|   31|   98|   63|   47|   64|   72|   19|   23|   35|   68|   11|   19|   36|   92|   48|   82|   82|   40|   55|   59|   10|   18|   16|   44|   66|   47|   70|   28|   80|   77|    8|   95|   57|   44|   14|   97|   10|   87|   27|   54|    2|   24|   66|   62|   52|   91|   27|   70|   59|   53|   45|   84|   76|\n",
      "|  24|  41|  62|  41|  29|  16|  49|   7|  89|  64|   92|   47|   26|   40|   18|   53|   38|   67|   25|   71|   59|   91|   80|   59|   20|   48|   45|   74|    2|   50|   97|   48|   28|   29|   89|   76|   17|   44|    5|   79|   61|   18|   55|   69|   56|   90|   76|   75|    7|   98|   50|   21|   46|   48|   62|   27|   76|   10|   68|   18|   63|   81|   41|   47|   10|   55|    3|   93|   15|   32|   64|   20|   46|    4|   11|   69|   13|   51|   25|   74|   91|   76|   26|   94|   54|   33|   46|   66|    1|   14|   32|   55|   60|   23|   21|   17|   78|   98|   63|   97|\n",
      "|  54|  91|  84|  17|  39|  79|  72|  24|  39|  53|    3|   99|   40|   42|   66|   69|   71|   24|   96|   17|   44|   33|   55|   13|   35|   60|   42|   86|    0|   87|   35|   67|   35|   43|   21|   34|   99|    9|   67|   57|   11|   79|   47|   41|   98|   73|   80|    3|   59|   80|   56|   95|   79|   61|   99|   98|   36|   97|   45|   89|   26|   61|   90|   94|    7|   90|   97|   61|   68|   18|   45|   45|   15|   78|   66|   84|   60|   37|   90|   67|   57|   25|   95|   40|   80|   57|   17|   21|   26|   94|   87|    5|   44|   91|   11|   99|   35|   54|   46|    7|\n",
      "|  43|  23|  65|  91|  58|   7|  19|  26|  48|  80|   94|   55|   84|   74|   59|   65|   99|   22|   42|   47|   78|   27|    0|   20|   23|   75|    7|   41|   57|   71|   54|   96|    5|   37|   12|   29|   92|   36|   65|   82|   60|   76|   81|   60|   21|   55|   76|    4|   38|   72|   67|   17|   51|   17|   71|   14|   16|    5|   88|   53|   58|   69|    6|   98|   81|   39|   44|    4|   74|   22|   85|   82|   76|   11|    2|   53|   74|   41|   64|    4|   97|   27|   97|   64|   33|   63|   50|   47|   85|   69|   85|   24|   60|   78|    3|   85|   14|   90|   72|   31|\n",
      "|  21|  38|  41|  24|  14|  53|  62|  67|   5|  81|   47|   49|   80|   34|   79|   16|   31|   78|   42|   45|   38|    7|   94|   11|   14|   23|   45|   30|   67|   72|   53|   84|    3|   35|   86|   36|   36|   90|   93|   76|   58|   28|   17|   72|   96|   50|   86|   99|   15|   36|   78|   67|   61|   62|   75|   81|   18|   50|   10|   72|   89|   96|   98|   87|   63|   36|    2|   44|   47|   22|   58|   14|   59|   61|   67|   19|   46|   68|   42|   80|   29|    1|   45|   23|   30|   50|   86|   58|   69|   44|    9|   19|   12|   80|   66|   28|   35|   76|   46|   23|\n",
      "|  40|  93|  96|  52|  54|  85|  67|  43|  51|  44|   96|   20|    0|   68|    2|   47|    5|   11|   83|   70|   78|   15|   38|   62|   45|   23|   39|   14|   57|   35|   54|   71|   73|   64|   24|   29|   26|   18|   49|   40|   12|   16|   33|   45|   80|   65|   95|   20|   12|   25|   77|    5|   17|    0|   25|   18|   23|   34|    7|   18|   87|   99|   18|   60|   18|   54|   52|    6|   70|   81|   33|    2|   21|   51|   54|   18|   77|    0|   59|   81|   50|   33|   27|   14|   65|   38|   88|    6|   29|   27|   31|   69|   76|   24|   73|   31|   33|   19|   26|   37|\n",
      "|  83|  91|  30|  74|  18|   8|  70|  70|  65|  55|   93|   75|   90|   23|   60|   38|   96|    8|   12|   57|   84|   84|    3|   24|   46|   47|   27|   20|   24|   99|    1|   40|   59|    1|   39|   31|   20|   84|   46|    4|   92|   82|    8|   48|   19|   27|   13|   61|   37|   52|   61|   29|   12|   41|   13|   76|   77|    3|   68|   74|    7|   36|   87|   11|   43|   32|   14|   57|   17|   31|    3|   92|   85|   55|   81|   77|   29|   92|   58|   74|   58|   83|   27|   95|    2|   54|   62|   78|   35|   13|   89|   67|   75|   16|   55|   41|   38|   64|   53|   43|\n",
      "|  55|  64|  84|   0|  59|  69|  51|  50|   1|  10|   66|   82|   86|   56|   74|   92|   38|   89|   84|   85|   37|   53|   96|   15|   24|   19|    9|   75|   94|   89|    5|   35|   88|   40|   36|   36|   81|   61|   69|   75|   21|   82|   31|   31|   45|   16|   70|   20|   33|   47|   34|   21|   92|   27|   41|   88|   78|   51|   16|   84|   68|   30|   11|   27|   32|   85|   90|   16|    8|   61|   10|   60|   24|   92|    4|   73|   20|   36|   76|   52|   43|   88|   86|   86|   38|   46|   15|   65|   38|   31|    2|   54|   46|   27|   69|   93|   86|   81|   87|   83|\n",
      "|  14|  89|  18|  53|  19|  69|   4|  57|  89|  95|   62|   79|   17|   90|   57|   30|    2|   12|   84|   55|   68|   94|   74|   87|   80|   10|   93|   19|   97|   12|   77|   27|   55|   48|   43|   70|   95|   85|   23|   49|   64|   80|   44|   85|   37|    4|   10|    3|   22|   41|   97|   82|   78|    7|   80|   39|   16|   70|    6|    0|   93|   90|   62|   70|   15|   57|   11|   84|    2|    0|    5|   65|   69|   23|    6|   18|   98|   35|   81|   83|   59|   98|   26|   39|   91|   28|   62|   18|   19|   77|   52|   21|   12|    6|   91|   95|   96|   60|   44|   78|\n",
      "|  43|  11|  46|  70|  98|  60|  48|  52|  40|  34|   30|   72|   19|   39|   79|   93|   20|   45|   98|   17|   91|   88|   88|   24|   96|   82|   57|    0|   41|   41|   69|   43|   80|   79|   27|   88|   68|   89|   49|   16|   24|   99|   57|   96|   59|   29|   11|   37|   37|   52|   70|   43|   35|    8|   12|    6|   44|   20|   21|   48|   61|   66|   63|   20|   11|   30|   99|   82|   16|   45|   12|   80|   57|   54|   79|   65|   76|   69|    2|   56|   96|   57|   95|   75|    1|    3|   32|   59|   45|   64|   91|   26|   50|   36|   91|   21|   35|   82|    0|   92|\n",
      "|  62|  74|  68|  40|  47|  95|  35|  59|   0|  46|   82|   35|   79|   48|   79|    0|   52|   29|   87|   24|   16|   65|   75|   38|   24|   15|    4|   29|   32|   35|   11|    3|   78|   49|   34|   15|   25|    9|   91|   51|   63|   98|   41|    4|   38|   50|   36|   73|    3|   75|   66|   47|   15|   29|   93|   91|   25|   31|   95|   34|   75|   85|   10|   41|   83|   21|   58|   61|   20|   41|   26|   90|   44|   62|   28|   56|    3|   17|   33|   54|   54|   16|   99|    9|   64|   25|   76|    8|   17|   83|   81|   25|   66|    0|   17|   41|   23|   87|   77|    4|\n",
      "|  20|  27|  38|  21|  78|  97|  88|  20|  32|  79|   52|   41|   33|   34|   62|   64|   34|   43|   30|   61|   50|   41|   72|   46|   29|   93|   11|   70|   13|   17|   43|   54|   41|   58|    8|   58|   23|    8|   25|   50|    0|   18|   12|   93|   51|   65|   38|   72|   45|   17|   98|   64|   49|   85|   29|    5|   93|   94|   23|   57|   80|    3|    7|   27|   53|   43|   20|   40|   88|   85|   73|   64|   52|   36|   63|   28|    1|   49|   24|   43|   66|   63|    1|   66|   69|   10|   26|   80|   81|   57|    8|    3|   31|   37|   20|   36|   71|   64|   57|   47|\n",
      "|  99|   8|   4|  88|  96|  45|  69|  34|  36|  67|   99|   60|   91|   35|   78|   68|   44|   29|   97|   44|   50|    1|   54|   73|    5|    1|   82|   76|   54|   47|   17|   38|    0|   18|   22|   46|   90|   38|   15|   25|   18|   38|    3|   65|   79|   13|   21|    8|   95|   29|   53|   17|   28|   47|   89|   62|   24|   24|   69|   89|   80|   22|   37|   19|   15|   35|   59|   61|   55|   43|   80|   82|   31|   54|   85|   28|    4|   50|   84|   86|   37|   14|   71|   15|   70|   65|    9|   88|   89|    1|    1|   44|   13|   28|   38|   54|   89|   74|   42|    1|\n",
      "|  74|  66|  91|  31|  22|  38|   7|  47|   3|  49|   97|   79|   19|   27|   75|   52|   43|   99|   82|   52|   14|   27|   94|   37|   15|   63|   84|   51|   78|   82|    7|   86|   68|   29|   62|   30|   39|   50|   60|   88|    1|    1|   75|    6|   43|   82|   25|   72|   54|    0|   74|   26|   78|    7|   22|   12|   34|   27|   92|   76|   98|   42|   54|   87|   19|   25|   55|   31|   50|   38|   11|   55|   69|   84|   33|   25|   13|   26|   10|   37|    6|   60|    4|   87|   93|   58|   76|   98|   69|   64|   54|   69|   37|   99|   11|    0|   14|   25|   40|   43|\n",
      "+----+----+----+----+----+----+----+----+----+----+-----+-----+-----+-----+-----+-----+-----+-----+-----+-----+-----+-----+-----+-----+-----+-----+-----+-----+-----+-----+-----+-----+-----+-----+-----+-----+-----+-----+-----+-----+-----+-----+-----+-----+-----+-----+-----+-----+-----+-----+-----+-----+-----+-----+-----+-----+-----+-----+-----+-----+-----+-----+-----+-----+-----+-----+-----+-----+-----+-----+-----+-----+-----+-----+-----+-----+-----+-----+-----+-----+-----+-----+-----+-----+-----+-----+-----+-----+-----+-----+-----+-----+-----+-----+-----+-----+-----+-----+-----+-----+\n",
      "only showing top 20 rows\n",
      "\n"
     ]
    },
    {
     "name": "stderr",
     "output_type": "stream",
     "text": [
      "                                                                                \r"
     ]
    }
   ],
   "source": [
    "df.show()"
   ]
  },
  {
   "cell_type": "code",
   "execution_count": 7,
   "metadata": {},
   "outputs": [],
   "source": [
    "def run_analysis_iterations(df, iterations):\n",
    "    for i in range(iterations):\n",
    "        random_col = random.choice(df.columns)\n",
    "        random_num = random.randint(0, 100)\n",
    "        random_sum = df.filter(f.col(random_col) < random_num).select(f.sum(f.col(random_col))).collect()[0][0]\n",
    "        print(f\"iteration {i} col {random_col} count: {random_sum}\")\n",
    "\n",
    "def cache_strategy(df):\n",
    "    df.cache()\n",
    "    df.count()\n",
    "    return df\n",
    "\n",
    "def checkpoint_strategy(df):\n",
    "    spark.sparkContext.setCheckpointDir(\"./checkpoint\")\n",
    "    df = df.checkpoint(eager=True)\n",
    "    return df\n",
    "\n",
    "def local_checkpoint_strategy(df):\n",
    "    df = df.localCheckpoint()\n",
    "    return df\n",
    "\n",
    "def temp_write_strategy(df):\n",
    "    df.write.mode(\"overwrite\").parquet(\"./temp_write\")\n",
    "    df = spark.read.parquet(\"./temp_write\")\n",
    "    return df\n",
    "\n",
    "def rebuild_df_strategy(df):\n",
    "    df =  spark.createDataFrame(df.rdd, df.schema)\n",
    "    return df"
   ]
  },
  {
   "cell_type": "code",
   "execution_count": 8,
   "metadata": {},
   "outputs": [
    {
     "name": "stdout",
     "output_type": "stream",
     "text": [
      "No strategy:\n"
     ]
    },
    {
     "name": "stderr",
     "output_type": "stream",
     "text": [
      "                                                                                \r"
     ]
    },
    {
     "name": "stdout",
     "output_type": "stream",
     "text": [
      "iteration 0 col id_81 count: 909102\n"
     ]
    },
    {
     "name": "stderr",
     "output_type": "stream",
     "text": [
      "                                                                                \r"
     ]
    },
    {
     "name": "stdout",
     "output_type": "stream",
     "text": [
      "iteration 1 col id_3 count: 43693381\n"
     ]
    },
    {
     "name": "stderr",
     "output_type": "stream",
     "text": [
      "                                                                                \r"
     ]
    },
    {
     "name": "stdout",
     "output_type": "stream",
     "text": [
      "iteration 2 col id_35 count: 4646131\n",
      "iteration 3 col id_28 count: 1359575\n",
      "iteration 4 col id_94 count: 779495\n"
     ]
    },
    {
     "name": "stderr",
     "output_type": "stream",
     "text": [
      "                                                                                \r"
     ]
    },
    {
     "name": "stdout",
     "output_type": "stream",
     "text": [
      "iteration 5 col id_86 count: 43713383\n"
     ]
    },
    {
     "name": "stderr",
     "output_type": "stream",
     "text": [
      "                                                                                \r"
     ]
    },
    {
     "name": "stdout",
     "output_type": "stream",
     "text": [
      "iteration 6 col id_69 count: 549980\n"
     ]
    },
    {
     "name": "stderr",
     "output_type": "stream",
     "text": [
      "                                                                                \r"
     ]
    },
    {
     "name": "stdout",
     "output_type": "stream",
     "text": [
      "iteration 7 col id_75 count: 14311286\n",
      "iteration 8 col id_4 count: 30069\n",
      "iteration 9 col id_11 count: 3518979\n",
      "iteration 10 col id_29 count: 20149617\n",
      "iteration 11 col id_77 count: 29804\n",
      "iteration 12 col id_71 count: 2995489\n",
      "iteration 13 col id_91 count: 34066920\n",
      "iteration 14 col id_89 count: 23464895\n"
     ]
    },
    {
     "name": "stderr",
     "output_type": "stream",
     "text": [
      "                                                                                \r"
     ]
    },
    {
     "name": "stdout",
     "output_type": "stream",
     "text": [
      "iteration 15 col id_53 count: 3782507\n",
      "iteration 16 col id_57 count: 27728250\n",
      "iteration 17 col id_35 count: None\n",
      "iteration 18 col id_97 count: 1903762\n",
      "iteration 19 col id_89 count: 14335561\n"
     ]
    },
    {
     "name": "stderr",
     "output_type": "stream",
     "text": [
      "                                                                                \r"
     ]
    },
    {
     "name": "stdout",
     "output_type": "stream",
     "text": [
      "iteration 20 col id_43 count: 5963337\n",
      "iteration 21 col id_19 count: 3510675\n",
      "iteration 22 col id_97 count: 9034057\n",
      "iteration 23 col id_13 count: 549095\n",
      "iteration 24 col id_48 count: 656490\n"
     ]
    },
    {
     "name": "stderr",
     "output_type": "stream",
     "text": [
      "                                                                                \r"
     ]
    },
    {
     "name": "stdout",
     "output_type": "stream",
     "text": [
      "iteration 25 col id_45 count: 9448232\n"
     ]
    },
    {
     "name": "stderr",
     "output_type": "stream",
     "text": [
      "                                                                                \r"
     ]
    },
    {
     "name": "stdout",
     "output_type": "stream",
     "text": [
      "iteration 26 col id_77 count: 5294377\n",
      "iteration 27 col id_5 count: 42810819\n"
     ]
    },
    {
     "name": "stderr",
     "output_type": "stream",
     "text": [
      "                                                                                \r"
     ]
    },
    {
     "name": "stdout",
     "output_type": "stream",
     "text": [
      "iteration 28 col id_58 count: 22755625\n",
      "iteration 29 col id_15 count: 11270328\n",
      "Execution time: 54.2 seconds\n"
     ]
    }
   ],
   "source": [
    "print(\"No strategy:\")\n",
    "start_time = timeit.default_timer()\n",
    "df_no_strategy = df\n",
    "run_analysis_iterations(df_no_strategy, num_df_actions)\n",
    "print(f\"Execution time: {round(timeit.default_timer() - start_time, 2)} seconds\")"
   ]
  },
  {
   "cell_type": "code",
   "execution_count": 9,
   "metadata": {},
   "outputs": [
    {
     "name": "stdout",
     "output_type": "stream",
     "text": [
      "Cache strategy:\n"
     ]
    },
    {
     "name": "stderr",
     "output_type": "stream",
     "text": [
      "                                                                                \r"
     ]
    },
    {
     "name": "stdout",
     "output_type": "stream",
     "text": [
      "iteration 0 col id_10 count: 24147573\n",
      "iteration 1 col id_37 count: 31602882\n",
      "iteration 2 col id_79 count: 10357216\n",
      "iteration 3 col id_73 count: 2752099\n",
      "iteration 4 col id_90 count: 281335\n",
      "iteration 5 col id_5 count: 34836176\n",
      "iteration 6 col id_29 count: 47539965\n",
      "iteration 7 col id_37 count: 450416\n",
      "iteration 8 col id_29 count: 662653\n",
      "iteration 9 col id_48 count: 5948980\n",
      "iteration 10 col id_58 count: 32431021\n",
      "iteration 11 col id_46 count: 1899830\n",
      "iteration 12 col id_47 count: 9909002\n",
      "iteration 13 col id_26 count: 35692079\n",
      "iteration 14 col id_34 count: 39136908\n",
      "iteration 15 col id_87 count: 33219939\n",
      "iteration 16 col id_9 count: 29259892\n",
      "iteration 17 col id_81 count: 2104125\n",
      "iteration 18 col id_68 count: 42758037\n",
      "iteration 19 col id_31 count: 1898573\n",
      "iteration 20 col id_59 count: 11257900\n",
      "iteration 21 col id_34 count: 32423610\n",
      "iteration 22 col id_88 count: 24853108\n",
      "iteration 23 col id_28 count: 37429808\n",
      "iteration 24 col id_41 count: 47531896\n",
      "iteration 25 col id_99 count: 209592\n",
      "iteration 26 col id_29 count: 59769\n",
      "iteration 27 col id_40 count: 12736086\n",
      "iteration 28 col id_34 count: 277980\n",
      "iteration 29 col id_27 count: 25525261\n",
      "Execution time: 48.14 seconds\n"
     ]
    },
    {
     "data": {
      "text/plain": [
       "DataFrame[id_0: int, id_1: int, id_2: int, id_3: int, id_4: int, id_5: int, id_6: int, id_7: int, id_8: int, id_9: int, id_10: int, id_11: int, id_12: int, id_13: int, id_14: int, id_15: int, id_16: int, id_17: int, id_18: int, id_19: int, id_20: int, id_21: int, id_22: int, id_23: int, id_24: int, id_25: int, id_26: int, id_27: int, id_28: int, id_29: int, id_30: int, id_31: int, id_32: int, id_33: int, id_34: int, id_35: int, id_36: int, id_37: int, id_38: int, id_39: int, id_40: int, id_41: int, id_42: int, id_43: int, id_44: int, id_45: int, id_46: int, id_47: int, id_48: int, id_49: int, id_50: int, id_51: int, id_52: int, id_53: int, id_54: int, id_55: int, id_56: int, id_57: int, id_58: int, id_59: int, id_60: int, id_61: int, id_62: int, id_63: int, id_64: int, id_65: int, id_66: int, id_67: int, id_68: int, id_69: int, id_70: int, id_71: int, id_72: int, id_73: int, id_74: int, id_75: int, id_76: int, id_77: int, id_78: int, id_79: int, id_80: int, id_81: int, id_82: int, id_83: int, id_84: int, id_85: int, id_86: int, id_87: int, id_88: int, id_89: int, id_90: int, id_91: int, id_92: int, id_93: int, id_94: int, id_95: int, id_96: int, id_97: int, id_98: int, id_99: int]"
      ]
     },
     "execution_count": 9,
     "metadata": {},
     "output_type": "execute_result"
    }
   ],
   "source": [
    "print(\"Cache strategy:\")\n",
    "start_time = timeit.default_timer()\n",
    "df_cache = df\n",
    "df_cache = cache_strategy(df_cache)\n",
    "run_analysis_iterations(df_cache, num_df_actions)\n",
    "print(f\"Execution time: {round(timeit.default_timer() - start_time, 2)} seconds\")\n",
    "df_cache.unpersist()"
   ]
  },
  {
   "cell_type": "code",
   "execution_count": 10,
   "metadata": {},
   "outputs": [
    {
     "name": "stdout",
     "output_type": "stream",
     "text": [
      "Checkpoint strategy:\n"
     ]
    },
    {
     "name": "stderr",
     "output_type": "stream",
     "text": [
      "                                                                                \r"
     ]
    },
    {
     "name": "stdout",
     "output_type": "stream",
     "text": [
      "iteration 0 col id_91 count: 7796434\n",
      "iteration 1 col id_27 count: 33971210\n",
      "iteration 2 col id_63 count: 12272798\n",
      "iteration 3 col id_82 count: 16546112\n",
      "iteration 4 col id_18 count: 5281492\n",
      "iteration 5 col id_17 count: 4652780\n",
      "iteration 6 col id_95 count: 24849328\n",
      "iteration 7 col id_68 count: 5286886\n",
      "iteration 8 col id_95 count: 27018502\n",
      "iteration 9 col id_54 count: 27017752\n",
      "iteration 10 col id_51 count: 10339990\n",
      "iteration 11 col id_28 count: 1357130\n",
      "iteration 12 col id_65 count: 19488753\n",
      "iteration 13 col id_11 count: 45592254\n",
      "iteration 14 col id_6 count: 913646\n",
      "iteration 15 col id_19 count: 31550292\n",
      "iteration 16 col id_20 count: 37432452\n",
      "iteration 17 col id_54 count: 28489225\n",
      "iteration 18 col id_8 count: 11764180\n",
      "iteration 19 col id_48 count: 28520626\n",
      "iteration 20 col id_59 count: 22100706\n",
      "iteration 21 col id_32 count: 24169417\n",
      "iteration 22 col id_1 count: 37456673\n",
      "iteration 23 col id_92 count: 913851\n",
      "iteration 24 col id_87 count: 22753582\n",
      "iteration 25 col id_96 count: 5607014\n",
      "iteration 26 col id_98 count: 33189538\n",
      "iteration 27 col id_43 count: 914300\n",
      "iteration 28 col id_37 count: 14833516\n",
      "iteration 29 col id_20 count: 16536392\n",
      "Execution time: 17.96 seconds\n"
     ]
    }
   ],
   "source": [
    "print(\"Checkpoint strategy:\")\n",
    "start_time = timeit.default_timer()\n",
    "df_checkpoint = df\n",
    "df_checkpoint = checkpoint_strategy(df_checkpoint)\n",
    "run_analysis_iterations(df_checkpoint, num_df_actions)\n",
    "print(f\"Execution time: {round(timeit.default_timer() - start_time, 2)} seconds\")"
   ]
  },
  {
   "cell_type": "code",
   "execution_count": 11,
   "metadata": {},
   "outputs": [
    {
     "name": "stdout",
     "output_type": "stream",
     "text": [
      "Local checkpoint strategy:\n"
     ]
    },
    {
     "name": "stderr",
     "output_type": "stream",
     "text": [
      "                                                                                \r"
     ]
    },
    {
     "name": "stdout",
     "output_type": "stream",
     "text": [
      "iteration 0 col id_0 count: 41850504\n",
      "iteration 1 col id_92 count: 5287764\n",
      "iteration 2 col id_64 count: 46571162\n",
      "iteration 3 col id_22 count: 20175962\n",
      "iteration 4 col id_13 count: 31609238\n",
      "iteration 5 col id_38 count: 32384688\n",
      "iteration 6 col id_64 count: 29253221\n",
      "iteration 7 col id_25 count: 1711368\n",
      "iteration 8 col id_47 count: 46577109\n",
      "iteration 9 col id_20 count: 23453366\n",
      "iteration 10 col id_99 count: 22102679\n",
      "iteration 11 col id_0 count: 28458621\n",
      "iteration 12 col id_41 count: 18912313\n",
      "iteration 13 col id_2 count: 911530\n",
      "iteration 14 col id_46 count: 7395166\n",
      "iteration 15 col id_30 count: 209781\n",
      "iteration 16 col id_30 count: 25621829\n",
      "iteration 17 col id_10 count: 450040\n",
      "iteration 18 col id_93 count: 18949626\n",
      "iteration 19 col id_8 count: 46560272\n",
      "iteration 20 col id_68 count: 47501480\n",
      "iteration 21 col id_16 count: 1201694\n",
      "iteration 22 col id_84 count: 17711726\n",
      "iteration 23 col id_70 count: 2103612\n",
      "iteration 24 col id_33 count: 22155084\n",
      "iteration 25 col id_77 count: 14303919\n",
      "iteration 26 col id_27 count: 23449050\n",
      "iteration 27 col id_96 count: 42730790\n",
      "iteration 28 col id_88 count: 2997035\n",
      "iteration 29 col id_91 count: 7401832\n",
      "Execution time: 13.41 seconds\n"
     ]
    }
   ],
   "source": [
    "print(\"Local checkpoint strategy:\")\n",
    "start_time = timeit.default_timer()\n",
    "df_local_checkpoint = df\n",
    "df_local_checkpoint = local_checkpoint_strategy(df_local_checkpoint)\n",
    "run_analysis_iterations(df_local_checkpoint, num_df_actions)\n",
    "print(f\"Execution time: {round(timeit.default_timer() - start_time, 2)} seconds\")"
   ]
  },
  {
   "cell_type": "code",
   "execution_count": 12,
   "metadata": {},
   "outputs": [
    {
     "name": "stdout",
     "output_type": "stream",
     "text": [
      "Temp Write strategy:\n"
     ]
    },
    {
     "name": "stderr",
     "output_type": "stream",
     "text": [
      "                                                                                \r"
     ]
    },
    {
     "name": "stdout",
     "output_type": "stream",
     "text": [
      "iteration 0 col id_51 count: 35730774\n",
      "iteration 1 col id_83 count: 10808317\n",
      "iteration 2 col id_56 count: 21410598\n",
      "iteration 3 col id_57 count: 1047915\n",
      "iteration 4 col id_31 count: 3780085\n",
      "iteration 5 col id_8 count: 9020345\n",
      "iteration 6 col id_2 count: 27802210\n",
      "iteration 7 col id_70 count: 4057644\n",
      "iteration 8 col id_75 count: 3787506\n",
      "iteration 9 col id_0 count: 362127\n",
      "iteration 10 col id_90 count: 31599620\n",
      "iteration 11 col id_7 count: 4062493\n",
      "iteration 12 col id_8 count: 60265\n",
      "iteration 13 col id_42 count: 361482\n",
      "iteration 14 col id_65 count: 4366566\n",
      "iteration 15 col id_35 count: 35673092\n",
      "iteration 16 col id_62 count: 3507007\n",
      "iteration 17 col id_69 count: 1199506\n",
      "iteration 18 col id_92 count: 26257226\n",
      "iteration 19 col id_73 count: 17703329\n",
      "iteration 20 col id_31 count: 49453321\n",
      "iteration 21 col id_60 count: 13253930\n",
      "iteration 22 col id_24 count: 661940\n",
      "iteration 23 col id_12 count: 34872797\n",
      "iteration 24 col id_55 count: 9899146\n",
      "iteration 25 col id_54 count: 13264749\n",
      "iteration 26 col id_59 count: 42805457\n",
      "iteration 27 col id_6 count: 36549927\n",
      "iteration 28 col id_83 count: 33211092\n",
      "iteration 29 col id_12 count: 210436\n",
      "Execution time: 21.61 seconds\n"
     ]
    }
   ],
   "source": [
    "print(\"Temp Write strategy:\")\n",
    "start_time = timeit.default_timer()\n",
    "df_temp_write = df\n",
    "df_temp_write = temp_write_strategy(df_temp_write)\n",
    "run_analysis_iterations(df_temp_write, num_df_actions)\n",
    "print(f\"Execution time: {round(timeit.default_timer() - start_time, 2)} seconds\")"
   ]
  },
  {
   "cell_type": "code",
   "execution_count": 13,
   "metadata": {},
   "outputs": [
    {
     "name": "stdout",
     "output_type": "stream",
     "text": [
      "Rebuild strategy:\n"
     ]
    },
    {
     "name": "stderr",
     "output_type": "stream",
     "text": [
      "/Library/Frameworks/Python.framework/Versions/3.12/lib/python3.12/site-packages/pyspark/python/lib/pyspark.zip/pyspark/daemon.py:154: DeprecationWarning: This process (pid=12254) is multi-threaded, use of fork() may lead to deadlocks in the child.\n",
      "                                                                                \r"
     ]
    },
    {
     "name": "stdout",
     "output_type": "stream",
     "text": [
      "iteration 0 col id_51 count: 42784993\n"
     ]
    },
    {
     "name": "stderr",
     "output_type": "stream",
     "text": [
      "                                                                                \r"
     ]
    },
    {
     "name": "stdout",
     "output_type": "stream",
     "text": [
      "iteration 1 col id_43 count: 784859\n"
     ]
    },
    {
     "name": "stderr",
     "output_type": "stream",
     "text": [
      "                                                                                \r"
     ]
    },
    {
     "name": "stdout",
     "output_type": "stream",
     "text": [
      "iteration 2 col id_31 count: 2761707\n"
     ]
    },
    {
     "name": "stderr",
     "output_type": "stream",
     "text": [
      "                                                                                \r"
     ]
    },
    {
     "name": "stdout",
     "output_type": "stream",
     "text": [
      "iteration 3 col id_24 count: 22770297\n"
     ]
    },
    {
     "name": "stderr",
     "output_type": "stream",
     "text": [
      "                                                                                \r"
     ]
    },
    {
     "name": "stdout",
     "output_type": "stream",
     "text": [
      "iteration 4 col id_57 count: 1354956\n"
     ]
    },
    {
     "name": "stderr",
     "output_type": "stream",
     "text": [
      "                                                                                \r"
     ]
    },
    {
     "name": "stdout",
     "output_type": "stream",
     "text": [
      "iteration 5 col id_54 count: 2525072\n"
     ]
    },
    {
     "name": "stderr",
     "output_type": "stream",
     "text": [
      "                                                                                \r"
     ]
    },
    {
     "name": "stdout",
     "output_type": "stream",
     "text": [
      "iteration 6 col id_35 count: 17108816\n"
     ]
    },
    {
     "name": "stderr",
     "output_type": "stream",
     "text": [
      "                                                                                \r"
     ]
    },
    {
     "name": "stdout",
     "output_type": "stream",
     "text": [
      "iteration 7 col id_31 count: 362303\n"
     ]
    },
    {
     "name": "stderr",
     "output_type": "stream",
     "text": [
      "                                                                                \r"
     ]
    },
    {
     "name": "stdout",
     "output_type": "stream",
     "text": [
      "iteration 8 col id_56 count: 24094038\n"
     ]
    },
    {
     "name": "stderr",
     "output_type": "stream",
     "text": [
      "                                                                                \r"
     ]
    },
    {
     "name": "stdout",
     "output_type": "stream",
     "text": [
      "iteration 9 col id_12 count: 149722\n"
     ]
    },
    {
     "name": "stderr",
     "output_type": "stream",
     "text": [
      "                                                                                \r"
     ]
    },
    {
     "name": "stdout",
     "output_type": "stream",
     "text": [
      "iteration 10 col id_83 count: 23453879\n"
     ]
    },
    {
     "name": "stderr",
     "output_type": "stream",
     "text": [
      "                                                                                \r"
     ]
    },
    {
     "name": "stdout",
     "output_type": "stream",
     "text": [
      "iteration 11 col id_1 count: 549584\n"
     ]
    },
    {
     "name": "stderr",
     "output_type": "stream",
     "text": [
      "                                                                                \r"
     ]
    },
    {
     "name": "stdout",
     "output_type": "stream",
     "text": [
      "iteration 12 col id_96 count: 4339846\n"
     ]
    },
    {
     "name": "stderr",
     "output_type": "stream",
     "text": [
      "                                                                                \r"
     ]
    },
    {
     "name": "stdout",
     "output_type": "stream",
     "text": [
      "iteration 13 col id_21 count: 13269207\n"
     ]
    },
    {
     "name": "stderr",
     "output_type": "stream",
     "text": [
      "                                                                                \r"
     ]
    },
    {
     "name": "stdout",
     "output_type": "stream",
     "text": [
      "iteration 14 col id_62 count: 18289671\n"
     ]
    },
    {
     "name": "stderr",
     "output_type": "stream",
     "text": [
      "                                                                                \r"
     ]
    },
    {
     "name": "stdout",
     "output_type": "stream",
     "text": [
      "iteration 15 col id_27 count: 12770425\n"
     ]
    },
    {
     "name": "stderr",
     "output_type": "stream",
     "text": [
      "                                                                                \r"
     ]
    },
    {
     "name": "stdout",
     "output_type": "stream",
     "text": [
      "iteration 16 col id_7 count: 2102143\n"
     ]
    },
    {
     "name": "stderr",
     "output_type": "stream",
     "text": [
      "                                                                                \r"
     ]
    },
    {
     "name": "stdout",
     "output_type": "stream",
     "text": [
      "iteration 17 col id_48 count: None\n"
     ]
    },
    {
     "name": "stderr",
     "output_type": "stream",
     "text": [
      "                                                                                \r"
     ]
    },
    {
     "name": "stdout",
     "output_type": "stream",
     "text": [
      "iteration 18 col id_49 count: 5289017\n"
     ]
    },
    {
     "name": "stderr",
     "output_type": "stream",
     "text": [
      "                                                                                \r"
     ]
    },
    {
     "name": "stdout",
     "output_type": "stream",
     "text": [
      "iteration 19 col id_58 count: 6277605\n"
     ]
    },
    {
     "name": "stderr",
     "output_type": "stream",
     "text": [
      "                                                                                \r"
     ]
    },
    {
     "name": "stdout",
     "output_type": "stream",
     "text": [
      "iteration 20 col id_54 count: 39158389\n"
     ]
    },
    {
     "name": "stderr",
     "output_type": "stream",
     "text": [
      "                                                                                \r"
     ]
    },
    {
     "name": "stdout",
     "output_type": "stream",
     "text": [
      "iteration 21 col id_93 count: 49504333\n"
     ]
    },
    {
     "name": "stderr",
     "output_type": "stream",
     "text": [
      "                                                                                \r"
     ]
    },
    {
     "name": "stdout",
     "output_type": "stream",
     "text": [
      "iteration 22 col id_71 count: 34843951\n"
     ]
    },
    {
     "name": "stderr",
     "output_type": "stream",
     "text": [
      "                                                                                \r"
     ]
    },
    {
     "name": "stdout",
     "output_type": "stream",
     "text": [
      "iteration 23 col id_91 count: 18904179\n"
     ]
    },
    {
     "name": "stderr",
     "output_type": "stream",
     "text": [
      "                                                                                \r"
     ]
    },
    {
     "name": "stdout",
     "output_type": "stream",
     "text": [
      "iteration 24 col id_19 count: 2767316\n"
     ]
    },
    {
     "name": "stderr",
     "output_type": "stream",
     "text": [
      "                                                                                \r"
     ]
    },
    {
     "name": "stdout",
     "output_type": "stream",
     "text": [
      "iteration 25 col id_37 count: 3502378\n"
     ]
    },
    {
     "name": "stderr",
     "output_type": "stream",
     "text": [
      "                                                                                \r"
     ]
    },
    {
     "name": "stdout",
     "output_type": "stream",
     "text": [
      "iteration 26 col id_7 count: 27027514\n"
     ]
    },
    {
     "name": "stderr",
     "output_type": "stream",
     "text": [
      "                                                                                \r"
     ]
    },
    {
     "name": "stdout",
     "output_type": "stream",
     "text": [
      "iteration 27 col id_94 count: 23465265\n"
     ]
    },
    {
     "name": "stderr",
     "output_type": "stream",
     "text": [
      "                                                                                \r"
     ]
    },
    {
     "name": "stdout",
     "output_type": "stream",
     "text": [
      "iteration 28 col id_7 count: 44674132\n"
     ]
    },
    {
     "name": "stderr",
     "output_type": "stream",
     "text": [
      "[Stage 580:>                                                      (0 + 12) / 12]\r"
     ]
    },
    {
     "name": "stdout",
     "output_type": "stream",
     "text": [
      "iteration 29 col id_40 count: 210814\n",
      "Execution time: 209.61 seconds\n"
     ]
    },
    {
     "name": "stderr",
     "output_type": "stream",
     "text": [
      "                                                                                \r"
     ]
    }
   ],
   "source": [
    "print(\"Rebuild strategy:\")\n",
    "start_time = timeit.default_timer()\n",
    "df_rebuild = df\n",
    "df_rebuild = rebuild_df_strategy(df_rebuild)\n",
    "run_analysis_iterations(df_rebuild, num_df_actions)\n",
    "print(f\"Execution time: {round(timeit.default_timer() - start_time, 2)} seconds\")"
   ]
  },
  {
   "cell_type": "code",
   "execution_count": 10,
   "metadata": {},
   "outputs": [],
   "source": [
    "spark.stop()"
   ]
  },
  {
   "cell_type": "code",
   "execution_count": null,
   "metadata": {},
   "outputs": [],
   "source": []
  }
 ],
 "metadata": {
  "kernelspec": {
   "display_name": "Python 3",
   "language": "python",
   "name": "python3"
  },
  "language_info": {
   "codemirror_mode": {
    "name": "ipython",
    "version": 3
   },
   "file_extension": ".py",
   "mimetype": "text/x-python",
   "name": "python",
   "nbconvert_exporter": "python",
   "pygments_lexer": "ipython3",
   "version": "3.12.1"
  }
 },
 "nbformat": 4,
 "nbformat_minor": 2
}
